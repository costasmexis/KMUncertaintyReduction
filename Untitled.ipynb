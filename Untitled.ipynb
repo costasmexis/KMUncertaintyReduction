{
 "cells": [
  {
   "cell_type": "code",
   "execution_count": 24,
   "id": "d31085ed-6429-48d7-89f6-183d120068ee",
   "metadata": {},
   "outputs": [],
   "source": [
    "import pandas as pd\n",
    "from sklearn.preprocessing import MinMaxScaler, StandardScaler"
   ]
  },
  {
   "cell_type": "code",
   "execution_count": 25,
   "id": "9e59dd0e-dbcb-472a-99ed-75e2089f9140",
   "metadata": {},
   "outputs": [
    {
     "name": "stdout",
     "output_type": "stream",
     "text": [
      "Dataset shape: (372, 1411)\n",
      "\n",
      "Percentage of Stable (1) and Non-Stable Models (0):\n",
      "0    0.8038\n",
      "1    0.1962\n",
      "Name: Stability, dtype: float64\n",
      "\n",
      "Imbalanced dataset.\n"
     ]
    }
   ],
   "source": [
    "df = pd.read_csv('data/kinetic_models.csv', index_col=0)\n",
    "\n",
    "print(f\"Dataset shape: {df.shape}\")\n",
    "\n",
    "# Spilt X and Y (stabilit)\n",
    "X = df.drop('Stability', axis=1)\n",
    "y = df['Stability'].copy()\n",
    "\n",
    "print('\\nPercentage of Stable (1) and Non-Stable Models (0):')\n",
    "print(y.value_counts(normalize=True).round(4))\n",
    "print('\\nImbalanced dataset.')"
   ]
  },
  {
   "cell_type": "code",
   "execution_count": 26,
   "id": "7d07260f-0fde-4f2b-b17e-210d3bbbffc1",
   "metadata": {},
   "outputs": [],
   "source": [
    "def normalize_dataset(df : pd.DataFrame) -> pd.DataFrame:\n",
    "    \"\"\"\n",
    "    Normalize a dataset using min-max normalization technique.\n",
    "\n",
    "    Args:\n",
    "        df (pandas.DataFrame): The input dataset.\n",
    "\n",
    "    Returns:\n",
    "        pandas.DataFrame: The normalized dataset.\n",
    "    \"\"\"\n",
    "    scaler = MinMaxScaler()\n",
    "    normalized_data = scaler.fit_transform(df)\n",
    "    normalized_df = pd.DataFrame(normalized_data, columns=df.columns)\n",
    "    return normalized_df\n",
    "\n",
    "def "
   ]
  },
  {
   "cell_type": "code",
   "execution_count": 29,
   "id": "131555c7-b7a5-499a-a150-130e3ff9dfec",
   "metadata": {},
   "outputs": [],
   "source": [
    "X = normalize_dataset(X)"
   ]
  },
  {
   "cell_type": "code",
   "execution_count": null,
   "id": "3dfdfaf1-839e-42dd-ac76-b34fb5a6521c",
   "metadata": {},
   "outputs": [],
   "source": []
  }
 ],
 "metadata": {
  "kernelspec": {
   "display_name": "Python 3 (ipykernel)",
   "language": "python",
   "name": "python3"
  },
  "language_info": {
   "codemirror_mode": {
    "name": "ipython",
    "version": 3
   },
   "file_extension": ".py",
   "mimetype": "text/x-python",
   "name": "python",
   "nbconvert_exporter": "python",
   "pygments_lexer": "ipython3",
   "version": "3.9.10"
  }
 },
 "nbformat": 4,
 "nbformat_minor": 5
}
